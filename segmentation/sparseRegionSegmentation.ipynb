{
 "cells": [
  {
   "cell_type": "code",
   "execution_count": 19,
   "metadata": {},
   "outputs": [],
   "source": [
    "import os\n",
    "import numpy as np\n",
    "from matplotlib import pyplot as plt\n",
    "import pandas as pd\n",
    "import napari\n",
    "\n",
    "import sys\n",
    "sys.path.append(r'../')\n",
    "\n",
    "from tools import imgLoad\n",
    "from tools import osTool as tos\n",
    "from SegTools import Blocks, Segmentation"
   ]
  },
  {
   "cell_type": "markdown",
   "metadata": {},
   "source": [
    "# Load data"
   ]
  },
  {
   "cell_type": "code",
   "execution_count": 2,
   "metadata": {},
   "outputs": [
    {
     "name": "stdout",
     "output_type": "stream",
     "text": [
      "(5568, 3960, 1140)\n",
      "(5568, 3960, 1140)\n",
      "(5568, 3960, 1140)\n"
     ]
    }
   ],
   "source": [
    "basedir = r\"Y:\\People\\Yannan\\Segmentation\\pLSMTH1\\CSal3722_restitch\"\n",
    "probTH = imgLoad.loadVirtualTifSeq(basedir + r\"\\regionSpecificTraining\\lowFPProb\\*.tif\")\n",
    "imgTH = imgLoad.loadVirtualTifSeq(basedir + r\"\\data\\*.tif\")\n",
    "\n",
    "masks = [imgLoad.loadVirtualTifSeq(r\"W:\\People\\Yannan\\Segmentation\\DF16\\regionalMask\\aroundHind\\mask\\*.tif\"),\n",
    "        ]"
   ]
  },
  {
   "cell_type": "markdown",
   "metadata": {},
   "source": [
    "# Set blocks"
   ]
  },
  {
   "cell_type": "code",
   "execution_count": 3,
   "metadata": {},
   "outputs": [
    {
     "name": "stdout",
     "output_type": "stream",
     "text": [
      "Block Number (x,y,z):  [6 5 5]\n"
     ]
    },
    {
     "data": {
      "image/png": "[encoded data removed]",
      "text/plain": [
       "<Figure size 576x720 with 1 Axes>"
      ]
     },
     "metadata": {
      "needs_background": "light"
     },
     "output_type": "display_data"
    }
   ],
   "source": [
    "blocks = Blocks(probTH.shape, (1000, 1000, 250), (50, 50, 25))\n",
    "blocks.visualize()"
   ]
  },
  {
   "cell_type": "code",
   "execution_count": 4,
   "metadata": {},
   "outputs": [],
   "source": [
    "segObj = Segmentation(imgTH, probTH, masks, blocks)"
   ]
  },
  {
   "cell_type": "markdown",
   "metadata": {},
   "source": [
    "# Tune thresholds"
   ]
  },
  {
   "cell_type": "code",
   "execution_count": 6,
   "metadata": {},
   "outputs": [
    {
     "name": "stdout",
     "output_type": "stream",
     "text": [
      "Load data...\n",
      "Blob detection (Mask 1)...\n",
      "Detection: 80\n",
      "Blob detection (Mask 2)...\n",
      "Detection: 132\n"
     ]
    }
   ],
   "source": [
    "# (3,0,1),(3,1,1),(4,1,2), (4,1,0)\n",
    "thresholds = [0.2, 0.3]\n",
    "blobs = segObj.segmentBlock([4,1,2], thresholds, onlyMask = False, min_sigma = [3, 3, 1], max_sigma = [5,5,5],)"
   ]
  },
  {
   "cell_type": "code",
   "execution_count": 12,
   "metadata": {},
   "outputs": [],
   "source": []
  },
  {
   "cell_type": "code",
   "execution_count": 13,
   "metadata": {},
   "outputs": [],
   "source": [
    "tos.saveNpy(r'Y:\\People\\Yannan\\Segmentation\\pLSMTH1\\CSal3722_restitch\\parameters.npy', \\\n",
    "           a = 1, b = 2, c = 3, d = 'aaaa')"
   ]
  },
  {
   "cell_type": "code",
   "execution_count": 18,
   "metadata": {},
   "outputs": [
    {
     "data": {
      "text/plain": [
       "array({'a': 1, 'b': 2, 'c': 3, 'd': 'aaaa'}, dtype=object)"
      ]
     },
     "execution_count": 18,
     "metadata": {},
     "output_type": "execute_result"
    }
   ],
   "source": [
    "np.load(r'Y:\\People\\Yannan\\Segmentation\\pLSMTH1\\CSal3722_restitch\\parameters.npy', allow_pickle = True)"
   ]
  },
  {
   "cell_type": "code",
   "execution_count": null,
   "metadata": {},
   "outputs": [],
   "source": []
  },
  {
   "cell_type": "code",
   "execution_count": null,
   "metadata": {},
   "outputs": [],
   "source": []
  },
  {
   "cell_type": "code",
   "execution_count": null,
   "metadata": {},
   "outputs": [],
   "source": []
  },
  {
   "cell_type": "code",
   "execution_count": 7,
   "metadata": {},
   "outputs": [
    {
     "data": {
      "text/plain": [
       "<Points layer 'colocal' at 0x27265bceaf0>"
      ]
     },
     "execution_count": 7,
     "metadata": {},
     "output_type": "execute_result"
    }
   ],
   "source": [
    "%gui qt\n",
    "\n",
    "viewer = napari.view_image(segObj.blockImg, contrast_limits=[0,8000], colormap = 'gray', order = [2, 0, 1], name = 'Img')\n",
    "viewer.add_image(segObj.blockProb, contrast_limits=[0,255], colormap = 'red', blending = 'additive', name = 'Prob')\n",
    "viewer.add_image(segObj.blockMasks[0], contrast_limits=[0,1], colormap = 'green', blending = 'additive', opacity = 0.3, name = 'Mask')\n",
    "viewer.add_points(np.array([blobs.x, blobs.y, blobs.z]).T, size = 4, n_dimensional = True, face_color = 'red', name = 'colocal')\n"
   ]
  },
  {
   "cell_type": "markdown",
   "metadata": {},
   "source": [
    "# Run segmentation"
   ]
  },
  {
   "cell_type": "code",
   "execution_count": 6,
   "metadata": {
    "scrolled": true
   },
   "outputs": [
    {
     "ename": "AssertionError",
     "evalue": "Masks number (3) unequal to thresholds number (2)",
     "output_type": "error",
     "traceback": [
      "\u001b[1;31m---------------------------------------------------------------------------\u001b[0m",
      "\u001b[1;31mAssertionError\u001b[0m                            Traceback (most recent call last)",
      "\u001b[1;32mC:\\Users\\TOMER_~1\\AppData\\Local\\Temp/ipykernel_36900/1817721318.py\u001b[0m in \u001b[0;36m<module>\u001b[1;34m\u001b[0m\n\u001b[1;32m----> 1\u001b[1;33m \u001b[0mallBlobs\u001b[0m \u001b[1;33m=\u001b[0m \u001b[0msegObj\u001b[0m\u001b[1;33m.\u001b[0m\u001b[0msegmentWhole\u001b[0m\u001b[1;33m(\u001b[0m\u001b[0mbasedir\u001b[0m\u001b[1;33m,\u001b[0m \u001b[0mthresholds\u001b[0m\u001b[1;33m,\u001b[0m \u001b[0monlyMask\u001b[0m \u001b[1;33m=\u001b[0m \u001b[1;32mFalse\u001b[0m\u001b[1;33m)\u001b[0m\u001b[1;33m\u001b[0m\u001b[1;33m\u001b[0m\u001b[0m\n\u001b[0m\u001b[0;32m      2\u001b[0m \u001b[1;31m# allBlobs.to_csv(basedir + r\"\\results.csv\")\u001b[0m\u001b[1;33m\u001b[0m\u001b[1;33m\u001b[0m\u001b[0m\n",
      "\u001b[1;32mW:\\People\\Yannan\\Code\\suiteWB\\segmentation\\SegTools.py\u001b[0m in \u001b[0;36msegmentWhole\u001b[1;34m(self, saveDir, thresholds, onlyMask, min_sigma, max_sigma, sigma_ratio, probThresh)\u001b[0m\n\u001b[0;32m    127\u001b[0m                      probThresh = 60):\n\u001b[0;32m    128\u001b[0m \u001b[1;33m\u001b[0m\u001b[0m\n\u001b[1;32m--> 129\u001b[1;33m         \u001b[0mself\u001b[0m\u001b[1;33m.\u001b[0m\u001b[0mcheckParam\u001b[0m\u001b[1;33m(\u001b[0m\u001b[0mthresholds\u001b[0m\u001b[1;33m,\u001b[0m \u001b[0monlyMask\u001b[0m\u001b[1;33m)\u001b[0m\u001b[1;33m\u001b[0m\u001b[1;33m\u001b[0m\u001b[0m\n\u001b[0m\u001b[0;32m    130\u001b[0m \u001b[1;33m\u001b[0m\u001b[0m\n\u001b[0;32m    131\u001b[0m         \u001b[1;32mtry\u001b[0m\u001b[1;33m:\u001b[0m\u001b[1;33m\u001b[0m\u001b[1;33m\u001b[0m\u001b[0m\n",
      "\u001b[1;32mW:\\People\\Yannan\\Code\\suiteWB\\segmentation\\SegTools.py\u001b[0m in \u001b[0;36mcheckParam\u001b[1;34m(self, thresholds, onlyMask)\u001b[0m\n\u001b[0;32m    191\u001b[0m         \u001b[0mnMasks\u001b[0m \u001b[1;33m=\u001b[0m \u001b[0mlen\u001b[0m\u001b[1;33m(\u001b[0m\u001b[0mself\u001b[0m\u001b[1;33m.\u001b[0m\u001b[0mmasks\u001b[0m\u001b[1;33m)\u001b[0m \u001b[1;33m+\u001b[0m \u001b[1;36m1\u001b[0m \u001b[1;33m-\u001b[0m \u001b[0mint\u001b[0m\u001b[1;33m(\u001b[0m\u001b[0monlyMask\u001b[0m\u001b[1;33m)\u001b[0m\u001b[1;33m\u001b[0m\u001b[1;33m\u001b[0m\u001b[0m\n\u001b[0;32m    192\u001b[0m         \u001b[0mnThresholds\u001b[0m \u001b[1;33m=\u001b[0m \u001b[0mlen\u001b[0m\u001b[1;33m(\u001b[0m\u001b[0mthresholds\u001b[0m\u001b[1;33m)\u001b[0m\u001b[1;33m\u001b[0m\u001b[1;33m\u001b[0m\u001b[0m\n\u001b[1;32m--> 193\u001b[1;33m         \u001b[1;32massert\u001b[0m \u001b[0mnThresholds\u001b[0m \u001b[1;33m==\u001b[0m \u001b[0mnMasks\u001b[0m\u001b[1;33m,\u001b[0m \u001b[1;34mf\"Masks number ({nMasks}) unequal to thresholds number ({nThresholds})\"\u001b[0m\u001b[1;33m\u001b[0m\u001b[1;33m\u001b[0m\u001b[0m\n\u001b[0m",
      "\u001b[1;31mAssertionError\u001b[0m: Masks number (3) unequal to thresholds number (2)"
     ]
    }
   ],
   "source": [
    "allBlobs = segObj.segmentWhole(basedir, thresholds, onlyMask = False, min_sigma = [3, 3, 1], max_sigma = [5,5,5],)\n",
    "# allBlobs.to_csv(basedir + r\"\\results.csv\")\n"
   ]
  },
  {
   "cell_type": "code",
   "execution_count": 8,
   "metadata": {
    "scrolled": true
   },
   "outputs": [
    {
     "data": {
      "text/html": [
       "<div>\n",
       "<style scoped>\n",
       "    .dataframe tbody tr th:only-of-type {\n",
       "        vertical-align: middle;\n",
       "    }\n",
       "\n",
       "    .dataframe tbody tr th {\n",
       "        vertical-align: top;\n",
       "    }\n",
       "\n",
       "    .dataframe thead th {\n",
       "        text-align: right;\n",
       "    }\n",
       "</style>\n",
       "<table border=\"1\" class=\"dataframe\">\n",
       "  <thead>\n",
       "    <tr style=\"text-align: right;\">\n",
       "      <th></th>\n",
       "      <th>Unnamed: 0</th>\n",
       "      <th>x</th>\n",
       "      <th>y</th>\n",
       "      <th>z</th>\n",
       "      <th>rx</th>\n",
       "      <th>ry</th>\n",
       "      <th>rz</th>\n",
       "      <th>mask</th>\n",
       "    </tr>\n",
       "  </thead>\n",
       "  <tbody>\n",
       "    <tr>\n",
       "      <th>0</th>\n",
       "      <td>150</td>\n",
       "      <td>935.0</td>\n",
       "      <td>799.0</td>\n",
       "      <td>44.0</td>\n",
       "      <td>2.0</td>\n",
       "      <td>2.0</td>\n",
       "      <td>1.0</td>\n",
       "      <td>2.0</td>\n",
       "    </tr>\n",
       "    <tr>\n",
       "      <th>1</th>\n",
       "      <td>151</td>\n",
       "      <td>960.0</td>\n",
       "      <td>948.0</td>\n",
       "      <td>165.0</td>\n",
       "      <td>2.0</td>\n",
       "      <td>2.0</td>\n",
       "      <td>1.0</td>\n",
       "      <td>2.0</td>\n",
       "    </tr>\n",
       "    <tr>\n",
       "      <th>2</th>\n",
       "      <td>152</td>\n",
       "      <td>828.0</td>\n",
       "      <td>886.0</td>\n",
       "      <td>53.0</td>\n",
       "      <td>2.0</td>\n",
       "      <td>2.0</td>\n",
       "      <td>1.0</td>\n",
       "      <td>2.0</td>\n",
       "    </tr>\n",
       "    <tr>\n",
       "      <th>3</th>\n",
       "      <td>157</td>\n",
       "      <td>424.0</td>\n",
       "      <td>914.0</td>\n",
       "      <td>209.0</td>\n",
       "      <td>2.0</td>\n",
       "      <td>2.0</td>\n",
       "      <td>1.0</td>\n",
       "      <td>2.0</td>\n",
       "    </tr>\n",
       "    <tr>\n",
       "      <th>4</th>\n",
       "      <td>158</td>\n",
       "      <td>520.0</td>\n",
       "      <td>855.0</td>\n",
       "      <td>105.0</td>\n",
       "      <td>2.0</td>\n",
       "      <td>2.0</td>\n",
       "      <td>1.0</td>\n",
       "      <td>2.0</td>\n",
       "    </tr>\n",
       "    <tr>\n",
       "      <th>...</th>\n",
       "      <td>...</td>\n",
       "      <td>...</td>\n",
       "      <td>...</td>\n",
       "      <td>...</td>\n",
       "      <td>...</td>\n",
       "      <td>...</td>\n",
       "      <td>...</td>\n",
       "      <td>...</td>\n",
       "    </tr>\n",
       "    <tr>\n",
       "      <th>3</th>\n",
       "      <td>3</td>\n",
       "      <td>1844.0</td>\n",
       "      <td>1034.0</td>\n",
       "      <td>691.0</td>\n",
       "      <td>2.0</td>\n",
       "      <td>2.0</td>\n",
       "      <td>1.0</td>\n",
       "      <td>2.0</td>\n",
       "    </tr>\n",
       "    <tr>\n",
       "      <th>4</th>\n",
       "      <td>4</td>\n",
       "      <td>1398.0</td>\n",
       "      <td>1551.0</td>\n",
       "      <td>733.0</td>\n",
       "      <td>2.0</td>\n",
       "      <td>2.0</td>\n",
       "      <td>1.0</td>\n",
       "      <td>2.0</td>\n",
       "    </tr>\n",
       "    <tr>\n",
       "      <th>5</th>\n",
       "      <td>6</td>\n",
       "      <td>1398.0</td>\n",
       "      <td>1552.0</td>\n",
       "      <td>728.0</td>\n",
       "      <td>2.0</td>\n",
       "      <td>2.0</td>\n",
       "      <td>1.0</td>\n",
       "      <td>2.0</td>\n",
       "    </tr>\n",
       "    <tr>\n",
       "      <th>0</th>\n",
       "      <td>0</td>\n",
       "      <td>1968.0</td>\n",
       "      <td>1299.0</td>\n",
       "      <td>701.0</td>\n",
       "      <td>2.0</td>\n",
       "      <td>2.0</td>\n",
       "      <td>1.0</td>\n",
       "      <td>2.0</td>\n",
       "    </tr>\n",
       "    <tr>\n",
       "      <th>1</th>\n",
       "      <td>3</td>\n",
       "      <td>2030.0</td>\n",
       "      <td>1458.0</td>\n",
       "      <td>744.0</td>\n",
       "      <td>2.0</td>\n",
       "      <td>2.0</td>\n",
       "      <td>1.0</td>\n",
       "      <td>2.0</td>\n",
       "    </tr>\n",
       "  </tbody>\n",
       "</table>\n",
       "<p>28895 rows × 8 columns</p>\n",
       "</div>"
      ],
      "text/plain": [
       "    Unnamed: 0       x       y      z   rx   ry   rz  mask\n",
       "0          150   935.0   799.0   44.0  2.0  2.0  1.0   2.0\n",
       "1          151   960.0   948.0  165.0  2.0  2.0  1.0   2.0\n",
       "2          152   828.0   886.0   53.0  2.0  2.0  1.0   2.0\n",
       "3          157   424.0   914.0  209.0  2.0  2.0  1.0   2.0\n",
       "4          158   520.0   855.0  105.0  2.0  2.0  1.0   2.0\n",
       "..         ...     ...     ...    ...  ...  ...  ...   ...\n",
       "3            3  1844.0  1034.0  691.0  2.0  2.0  1.0   2.0\n",
       "4            4  1398.0  1551.0  733.0  2.0  2.0  1.0   2.0\n",
       "5            6  1398.0  1552.0  728.0  2.0  2.0  1.0   2.0\n",
       "0            0  1968.0  1299.0  701.0  2.0  2.0  1.0   2.0\n",
       "1            3  2030.0  1458.0  744.0  2.0  2.0  1.0   2.0\n",
       "\n",
       "[28895 rows x 8 columns]"
      ]
     },
     "execution_count": 8,
     "metadata": {},
     "output_type": "execute_result"
    }
   ],
   "source": [
    "# allBlobs = segObj.loadBlockResults(basedir)\n",
    "# allBlobs.to_csv(basedir + r\"\\results.csv\")\n",
    "allBlobs"
   ]
  },
  {
   "cell_type": "code",
   "execution_count": 196,
   "metadata": {},
   "outputs": [
    {
     "data": {
      "text/plain": [
       "<Points layer 'Cells' at 0x1fa7c5e2850>"
      ]
     },
     "execution_count": 196,
     "metadata": {},
     "output_type": "execute_result"
    }
   ],
   "source": [
    "%gui qt\n",
    "\n",
    "viewer = napari.view_image(imgTH, contrast_limits=[0,10000], colormap = 'gray',  scale = [1,1,2], name = 'Img')\n",
    "viewer.add_points(np.array([allBlobs.x, allBlobs.y, allBlobs.z*2]).T, size = 15,\\\n",
    "                  symbol='ring', edge_width=0, \\\n",
    "                  n_dimensional = True, face_color = 'red', name = 'Cells')\n",
    "\n"
   ]
  },
  {
   "cell_type": "code",
   "execution_count": null,
   "metadata": {},
   "outputs": [],
   "source": []
  }
 ],
 "metadata": {
  "interpreter": {
   "hash": "feea16ca5f427d0e6e507970ef1bf5bbd82807d5af37f26230a9bb6e6d061809"
  },
  "kernelspec": {
   "display_name": "Python 3 (ipykernel)",
   "language": "python",
   "name": "python3"
  },
  "language_info": {
   "codemirror_mode": {
    "name": "ipython",
    "version": 3
   },
   "file_extension": ".py",
   "mimetype": "text/x-python",
   "name": "python",
   "nbconvert_exporter": "python",
   "pygments_lexer": "ipython3",
   "version": "3.9.7"
  }
 },
 "nbformat": 4,
 "nbformat_minor": 2
}
