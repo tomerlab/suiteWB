{
 "cells": [
  {
   "cell_type": "code",
   "execution_count": 1,
   "id": "d02f61d9",
   "metadata": {},
   "outputs": [],
   "source": [
    "import numpy as np\n",
    "import sys\n",
    "sys.path.append(r'../')\n",
    "from tools import imgLoad, imgSave\n",
    "from tools import ioTools as tio\n"
   ]
  },
  {
   "cell_type": "code",
   "execution_count": 6,
   "id": "64ffd7de",
   "metadata": {},
   "outputs": [
    {
     "name": "stdout",
     "output_type": "stream",
     "text": [
      "(5568, 3960, 1140)\n"
     ]
    }
   ],
   "source": [
    "basedir = r'Y:\\People\\Yannan\\Segmentation\\DrugTH10_30mgkg\\CKet112322'\n",
    "imgTH = imgLoad.loadVirtualTifSeq(basedir + r'\\data\\*.tif')\n",
    "x1, x2, y1, y2, z1, z2 =  527*4, 1075*4, 282*4, 726*4, 0, 375*2"
   ]
  },
  {
   "cell_type": "markdown",
   "id": "26ecbd76",
   "metadata": {},
   "source": [
    "# Crop region"
   ]
  },
  {
   "cell_type": "code",
   "execution_count": 7,
   "id": "52d287b8",
   "metadata": {},
   "outputs": [
    {
     "name": "stdout",
     "output_type": "stream",
     "text": [
      "(2192, 1776, 750)\n",
      "Create  Y:\\People\\Yannan\\Segmentation\\DrugTH10_30mgkg\\CKet112322\\parameters\n",
      "Exists  Y:\\People\\Yannan\\Segmentation\\DrugTH10_30mgkg\\CKet112322\\regionSpecificTraining\\img\n"
     ]
    }
   ],
   "source": [
    "croppedImg = np.array(imgTH[x1:x2, y1:y2, z1:z2])\n",
    "print(croppedImg.shape)\n",
    "\n",
    "tio.saveNpy(basedir + r'\\parameters\\denseBoundBox.npy', x1=x1, x2=x2, y1=y1, y2=y2, z1=z1, z2=z2)\n",
    "imgSave.saveTifSeq(croppedImg, basedir + r'\\regionSpecificTraining\\img', 'cropped')\n"
   ]
  },
  {
   "cell_type": "code",
   "execution_count": null,
   "id": "f96e9309",
   "metadata": {},
   "outputs": [],
   "source": []
  }
 ],
 "metadata": {
  "kernelspec": {
   "display_name": "Python 3 (ipykernel)",
   "language": "python",
   "name": "python3"
  },
  "language_info": {
   "codemirror_mode": {
    "name": "ipython",
    "version": 3
   },
   "file_extension": ".py",
   "mimetype": "text/x-python",
   "name": "python",
   "nbconvert_exporter": "python",
   "pygments_lexer": "ipython3",
   "version": "3.9.7"
  }
 },
 "nbformat": 4,
 "nbformat_minor": 5
}
