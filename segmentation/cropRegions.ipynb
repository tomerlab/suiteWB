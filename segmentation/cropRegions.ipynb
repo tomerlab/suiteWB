{
 "cells": [
  {
   "cell_type": "code",
   "execution_count": 7,
   "id": "d02f61d9",
   "metadata": {},
   "outputs": [],
   "source": [
    "import numpy as np\n",
    "import sys\n",
    "sys.path.append(r'../')\n",
    "from tools import imgLoad, imgSave"
   ]
  },
  {
   "cell_type": "code",
   "execution_count": 17,
   "id": "64ffd7de",
   "metadata": {},
   "outputs": [
    {
     "name": "stdout",
     "output_type": "stream",
     "text": [
      "(5568, 3960, 1140)\n"
     ]
    }
   ],
   "source": [
    "basedir = r'Y:\\People\\Yannan\\Segmentation\\DrugTH10_30mgkg\\CKet112222'\n",
    "imgTH = imgLoad.loadVirtualTifSeq(basedir + r'\\data\\*.tif')\n",
    "x1, x2, y1, y2, z1, z2 =  527*4, 1075*4, 282*4, 726*4, 0, 375*2"
   ]
  },
  {
   "cell_type": "markdown",
   "id": "26ecbd76",
   "metadata": {},
   "source": [
    "# Crop region"
   ]
  },
  {
   "cell_type": "code",
   "execution_count": 19,
   "id": "52d287b8",
   "metadata": {},
   "outputs": [
    {
     "data": {
      "text/plain": [
       "(2192, 1776, 750)"
      ]
     },
     "execution_count": 19,
     "metadata": {},
     "output_type": "execute_result"
    }
   ],
   "source": [
    "croppedImg = np.array(imgTH[x1:x2, y1:y2, z1:z2])\n",
    "croppedImg.shape"
   ]
  },
  {
   "cell_type": "code",
   "execution_count": 20,
   "id": "3315dd8c",
   "metadata": {},
   "outputs": [
    {
     "name": "stdout",
     "output_type": "stream",
     "text": [
      "Exists  Y:\\People\\Yannan\\Segmentation\\DrugTH10_30mgkg\\CKet112222\\regionSpecificTraining\\img\n"
     ]
    }
   ],
   "source": [
    "imgSave.saveTifSeq(croppedImg, basedir + r'\\regionSpecificTraining\\img', 'cropped')\n"
   ]
  },
  {
   "cell_type": "code",
   "execution_count": null,
   "id": "90c18186",
   "metadata": {},
   "outputs": [],
   "source": []
  }
 ],
 "metadata": {
  "kernelspec": {
   "display_name": "Python 3 (ipykernel)",
   "language": "python",
   "name": "python3"
  },
  "language_info": {
   "codemirror_mode": {
    "name": "ipython",
    "version": 3
   },
   "file_extension": ".py",
   "mimetype": "text/x-python",
   "name": "python",
   "nbconvert_exporter": "python",
   "pygments_lexer": "ipython3",
   "version": "3.9.7"
  }
 },
 "nbformat": 4,
 "nbformat_minor": 5
}
