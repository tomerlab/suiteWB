{
 "cells": [
  {
   "cell_type": "code",
   "execution_count": 1,
   "metadata": {},
   "outputs": [
    {
     "name": "stderr",
     "output_type": "stream",
     "text": [
      "C:\\Users\\Yannan\\Anaconda3\\envs\\cellCount38\\lib\\site-packages\\napari\\__init__.py:44: UserWarning: \n",
      "    napari was tested with QT library `>=5.12.3`.\n",
      "    The version installed is 5.9.7. Please report any issues with this\n",
      "    specific QT version at https://github.com/Napari/napari/issues.\n",
      "    \n",
      "  warn(message=warn_message)\n",
      "C:\\Users\\Yannan\\Anaconda3\\envs\\cellCount38\\lib\\site-packages\\skimage\\io\\manage_plugins.py:23: UserWarning: Your installed pillow version is < 8.1.2. Several security issues (CVE-2021-27921, CVE-2021-25290, CVE-2021-25291, CVE-2021-25293, and more) have been fixed in pillow 8.1.2 or higher. We recommend to upgrade this library.\n",
      "  from .collection import imread_collection_wrapper\n"
     ]
    }
   ],
   "source": [
    "import os\n",
    "import numpy as np\n",
    "import pandas as pd\n",
    "import napari\n",
    "\n",
    "import sys\n",
    "sys.path.append(r'../')\n",
    "\n",
    "from tools import imgLoad\n",
    "from tools import ioTools as tio\n",
    "from SegTools import Blocks, Segmentation, Proofread\n",
    "\n",
    "%gui qt"
   ]
  },
  {
   "cell_type": "code",
   "execution_count": 2,
   "metadata": {},
   "outputs": [
    {
     "name": "stdout",
     "output_type": "stream",
     "text": [
      "(750, 2192, 1776)\n"
     ]
    }
   ],
   "source": [
    "basedir = r'Y:\\People\\Yannan\\Segmentation\\DrugTH10_30mgkg\\CKet11823\\regionSpecificTraining'\n",
    "imgTH = imgLoad.loadVirtualTifSeq(basedir + r\"\\img\\*.tif\", order = 'zxy')\n",
    "proofread = Proofread(basedir, imgTH)"
   ]
  },
  {
   "cell_type": "code",
   "execution_count": 3,
   "metadata": {},
   "outputs": [],
   "source": [
    "proofread.viewResults(contrast_limits = [0,800])"
   ]
  },
  {
   "cell_type": "code",
   "execution_count": 10,
   "metadata": {},
   "outputs": [
    {
     "name": "stdout",
     "output_type": "stream",
     "text": [
      "Cells: 25585\n",
      "Exists  Y:\\People\\Yannan\\Segmentation\\DrugTH10_30mgkg\\CKet11823\\regionSpecificTraining\\proofreadTemp\n"
     ]
    }
   ],
   "source": [
    "proofread.updateResults()"
   ]
  },
  {
   "cell_type": "code",
   "execution_count": 4,
   "metadata": {},
   "outputs": [
    {
     "data": {
      "text/plain": [
       "1"
      ]
     },
     "execution_count": 4,
     "metadata": {},
     "output_type": "execute_result"
    }
   ],
   "source": [
    "1"
   ]
  },
  {
   "cell_type": "code",
   "execution_count": 11,
   "metadata": {},
   "outputs": [
    {
     "name": "stdout",
     "output_type": "stream",
     "text": [
      "(1140, 5568, 3960)\n"
     ]
    }
   ],
   "source": [
    "basedir = r'Y:\\People\\Yannan\\Segmentation\\DrugTH10_30mgkg\\CKet11823'\n",
    "imgTH = imgLoad.loadVirtualTifSeq(basedir + r\"\\data\\*.tif\", order = 'zxy')\n",
    "proofread = Proofread(basedir + r'\\fullCells', imgTH)"
   ]
  },
  {
   "cell_type": "code",
   "execution_count": 12,
   "metadata": {},
   "outputs": [],
   "source": [
    "proofread.viewResults(contrast_limits = [0,800], blobSize = 20)"
   ]
  },
  {
   "cell_type": "code",
   "execution_count": 13,
   "metadata": {},
   "outputs": [
    {
     "name": "stdout",
     "output_type": "stream",
     "text": [
      "Cells: 28376\n",
      "Create  Y:\\People\\Yannan\\Segmentation\\DrugTH10_30mgkg\\CKet11823\\fullCells\\proofreadTemp\n"
     ]
    }
   ],
   "source": [
    "proofread.updateResults()"
   ]
  },
  {
   "cell_type": "code",
   "execution_count": 57,
   "metadata": {},
   "outputs": [
    {
     "data": {
      "text/plain": [
       "1"
      ]
     },
     "execution_count": 57,
     "metadata": {},
     "output_type": "execute_result"
    }
   ],
   "source": [
    "1"
   ]
  }
 ],
 "metadata": {
  "kernelspec": {
   "display_name": "Python 3",
   "language": "python",
   "name": "python3"
  },
  "language_info": {
   "codemirror_mode": {
    "name": "ipython",
    "version": 3
   },
   "file_extension": ".py",
   "mimetype": "text/x-python",
   "name": "python",
   "nbconvert_exporter": "python",
   "pygments_lexer": "ipython3",
   "version": "3.8.5"
  }
 },
 "nbformat": 4,
 "nbformat_minor": 4
}
