{
 "cells": [
  {
   "cell_type": "code",
   "execution_count": 1,
   "metadata": {},
   "outputs": [
    {
     "name": "stderr",
     "output_type": "stream",
     "text": [
      "C:\\Users\\Yannan\\Anaconda3\\envs\\cellCount38\\lib\\site-packages\\napari\\__init__.py:44: UserWarning: \n",
      "    napari was tested with QT library `>=5.12.3`.\n",
      "    The version installed is 5.9.7. Please report any issues with this\n",
      "    specific QT version at https://github.com/Napari/napari/issues.\n",
      "    \n",
      "  warn(message=warn_message)\n",
      "C:\\Users\\Yannan\\Anaconda3\\envs\\cellCount38\\lib\\site-packages\\skimage\\io\\manage_plugins.py:23: UserWarning: Your installed pillow version is < 8.1.2. Several security issues (CVE-2021-27921, CVE-2021-25290, CVE-2021-25291, CVE-2021-25293, and more) have been fixed in pillow 8.1.2 or higher. We recommend to upgrade this library.\n",
      "  from .collection import imread_collection_wrapper\n"
     ]
    }
   ],
   "source": [
    "import os\n",
    "import numpy as np\n",
    "import pandas as pd\n",
    "import napari\n",
    "from glob import glob\n",
    "import json\n",
    "from tqdm.notebook import tqdm, trange\n",
    "import sys\n",
    "sys.path.append(r'../')\n",
    "\n",
    "from tools import imgLoad\n",
    "from tools import ioTools as tio\n",
    "from SegTools import Blocks, Segmentation, Proofread\n",
    "\n",
    "%gui qt"
   ]
  },
  {
   "cell_type": "code",
   "execution_count": 2,
   "metadata": {},
   "outputs": [
    {
     "name": "stdout",
     "output_type": "stream",
     "text": [
      "(1392, 990, 570)\n",
      "(1392, 990, 570)\n",
      "This is only:  root\n"
     ]
    }
   ],
   "source": [
    "basedir = r'Y:\\People\\Yannan\\Segmentation\\DrugTH10_30mgkg\\CKet11823'\n",
    "allCells = Proofread(basedir + r'\\fullCells', []).cells\n",
    "annotation = np.array(imgLoad.loadVirtualTifSeq(r'W:\\People\\Yannan\\Segmentation\\DF16\\ABA\\annotation\\*.tif'))\n",
    "hemisphere = np.array(imgLoad.loadVirtualTifSeq(r\"W:\\People\\Yannan\\Segmentation\\DF16\\ABA\\hemisphere\\*.tif\"))\n",
    "\n",
    "brainHierarchy = json.loads(open(r'W:\\People\\Malika\\highResMapped_to_CAvgR1\\AllenbrainAtlas\\brainHierarchy.json').read())['msg'][0]#['children']#[0]\n",
    "print('This is only: ', brainHierarchy['name'])"
   ]
  },
  {
   "cell_type": "code",
   "execution_count": 3,
   "metadata": {},
   "outputs": [],
   "source": [
    "# https://stackoverflow.com/questions/9807634/find-all-occurrences-of-a-key-in-nested-dictionaries-and-lists\n",
    "def regions_at_certain_level(d, level):\n",
    "    if 'st_level' in d and d['st_level'] == level:\n",
    "        yield {'name':d['name'],\n",
    "               'id': d['id'],\n",
    "               'acronym':d['acronym'], \n",
    "               'children':d['children']}\n",
    "    for k in d:\n",
    "        if isinstance(d[k], list):\n",
    "            for i in d[k]:\n",
    "                for j in regions_at_certain_level(i, level):\n",
    "                    yield j\n",
    "\n",
    "def subregions_below_certain_region(d):\n",
    "    if 'name' in d:\n",
    "        try:\n",
    "            yield {'name':d['name'], \n",
    "                   'id': d['id'],\n",
    "                   'acronym':d['acronym'],\n",
    "                   'parent_structure_id':d['parent_structure_id']}\n",
    "        except:\n",
    "            yield {'name':d['name'], \n",
    "                   'id': d['id'],\n",
    "                   'acronym':d['acronym'],\n",
    "                   'parent_structure_id': 0}\n",
    "    for k in d:\n",
    "        if isinstance(d[k], list):\n",
    "            for i in d[k]:\n",
    "                for j in subregions_below_certain_region(i):\n",
    "                    yield j\n",
    "\n",
    "   "
   ]
  },
  {
   "cell_type": "code",
   "execution_count": 4,
   "metadata": {},
   "outputs": [
    {
     "data": {
      "application/vnd.jupyter.widget-view+json": {
       "model_id": "6fe3c7ea08664fb8ac5595f98672087d",
       "version_major": 2,
       "version_minor": 0
      },
      "text/plain": [
       "  0%|          | 0/28376 [00:00<?, ?it/s]"
      ]
     },
     "metadata": {},
     "output_type": "display_data"
    }
   ],
   "source": [
    "cellPrimaryRegionID = np.zeros(len(allCells))\n",
    "cellHemisphere = np.zeros(len(allCells))\n",
    "for i in trange(len(allCells)):\n",
    "    x, y, z = int(allCells.iloc[i].x/4), int(allCells.iloc[i].y/4), int(allCells.iloc[i].z/2)\n",
    "    cellPrimaryRegionID[i] = annotation[x, y, z]\n",
    "    cellHemisphere[i] = hemisphere[x, y, z] > 0\n",
    "\n",
    "# Exclude cells outside brain\n",
    "allCells = allCells.iloc[cellPrimaryRegionID > 0]\n",
    "cellHemisphere = cellHemisphere[cellPrimaryRegionID > 0] \n",
    "cellPrimaryRegionID = cellPrimaryRegionID[cellPrimaryRegionID > 0]\n"
   ]
  },
  {
   "cell_type": "code",
   "execution_count": 5,
   "metadata": {},
   "outputs": [
    {
     "data": {
      "application/vnd.jupyter.widget-view+json": {
       "model_id": "900a5bffa55743dbb8077717d5a769aa",
       "version_major": 2,
       "version_minor": 0
      },
      "text/plain": [
       "  0%|          | 0/8 [00:00<?, ?it/s]"
      ]
     },
     "metadata": {},
     "output_type": "display_data"
    }
   ],
   "source": [
    "cells = pd.concat([allCells.reset_index().iloc[:,2:], pd.DataFrame({'primaryRegionID': cellPrimaryRegionID})], axis = 1)\n",
    "cells['isLeft'] = cellHemisphere\n",
    "for hierarchy in trange(1,9):\n",
    "    regions = list(regions_at_certain_level(brainHierarchy, hierarchy))\n",
    "\n",
    "\n",
    "    cellRegionID = np.zeros(len(cellPrimaryRegionID))\n",
    "    cellRegionName = [''] * len(cellPrimaryRegionID)\n",
    "    cellRegionAcronym = [''] * len(cellPrimaryRegionID)\n",
    "    for i in range(len(regions)):\n",
    "        subregions = list(subregions_below_certain_region(regions[i]))\n",
    "        for j in range(len(subregions)):\n",
    "            try:\n",
    "                cellRegionID[cellPrimaryRegionID == subregions[j]['id']] = regions[i]['id']\n",
    "\n",
    "                for selected in np.where(cellPrimaryRegionID == subregions[j]['id'])[0]:\n",
    "                    cellRegionName[selected] = regions[i]['name']\n",
    "                    cellRegionAcronym[selected] = regions[i]['acronym']\n",
    "            except:\n",
    "                1\n",
    "    cells = pd.concat([cells, pd.DataFrame({'level{}RegionID'.format(hierarchy): cellRegionID,\n",
    "                                           'level{}RegionName'.format(hierarchy): cellRegionName,\n",
    "                                           'level{}RegionAcronym'.format(hierarchy): cellRegionAcronym})], axis = 1)  \n",
    "\n",
    "cells = cells.loc[cells.level1RegionID > 0].reset_index().iloc[:,1:]\n"
   ]
  },
  {
   "cell_type": "code",
   "execution_count": 6,
   "metadata": {},
   "outputs": [
    {
     "name": "stdout",
     "output_type": "stream",
     "text": [
      "Create  Y:\\People\\Yannan\\Segmentation\\DrugTH10_30mgkg\\CKet11823\\fullCells\\finalResults\n"
     ]
    }
   ],
   "source": [
    "tio.mkdirs(basedir + r'\\fullCells\\finalResults')\n",
    "cells.to_csv(basedir + r'\\fullCells\\finalResults\\finalBlobsWithRegions.csv')"
   ]
  },
  {
   "cell_type": "code",
   "execution_count": null,
   "metadata": {},
   "outputs": [],
   "source": []
  }
 ],
 "metadata": {
  "kernelspec": {
   "display_name": "Python 3",
   "language": "python",
   "name": "python3"
  },
  "language_info": {
   "codemirror_mode": {
    "name": "ipython",
    "version": 3
   },
   "file_extension": ".py",
   "mimetype": "text/x-python",
   "name": "python",
   "nbconvert_exporter": "python",
   "pygments_lexer": "ipython3",
   "version": "3.8.5"
  }
 },
 "nbformat": 4,
 "nbformat_minor": 4
}
