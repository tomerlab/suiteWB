{
 "cells": [
  {
   "cell_type": "code",
   "execution_count": 1,
   "metadata": {},
   "outputs": [
    {
     "name": "stderr",
     "output_type": "stream",
     "text": [
      "C:\\Users\\Yannan\\Anaconda3\\envs\\cellCount38\\lib\\site-packages\\napari\\__init__.py:44: UserWarning: \n",
      "    napari was tested with QT library `>=5.12.3`.\n",
      "    The version installed is 5.9.7. Please report any issues with this\n",
      "    specific QT version at https://github.com/Napari/napari/issues.\n",
      "    \n",
      "  warn(message=warn_message)\n",
      "C:\\Users\\Yannan\\Anaconda3\\envs\\cellCount38\\lib\\site-packages\\skimage\\io\\manage_plugins.py:23: UserWarning: Your installed pillow version is < 8.1.2. Several security issues (CVE-2021-27921, CVE-2021-25290, CVE-2021-25291, CVE-2021-25293, and more) have been fixed in pillow 8.1.2 or higher. We recommend to upgrade this library.\n",
      "  from .collection import imread_collection_wrapper\n"
     ]
    }
   ],
   "source": [
    "import os\n",
    "import numpy as np\n",
    "import pandas as pd\n",
    "import napari\n",
    "from glob import glob\n",
    "from tqdm.notebook import tqdm, trange\n",
    "import sys\n",
    "sys.path.append(r'../')\n",
    "\n",
    "from tools import imgLoad\n",
    "from tools import ioTools as tio\n",
    "from SegTools import Blocks, Segmentation, Proofread\n",
    "\n",
    "%gui qt"
   ]
  },
  {
   "cell_type": "code",
   "execution_count": 2,
   "metadata": {},
   "outputs": [],
   "source": [
    "def withinBox(value, x1,x2,y1,y2,z1,z2):\n",
    "    if len(value.shape) < 2:\n",
    "        value = value[np.newaxis, :]\n",
    "    return (value[:,0] > x1) &  (value[:,0] < x2) & (value[:,1] > y1) &  (value[:,1] < y2) & \\\n",
    "            (value[:,2] > z1) &  (value[:,2] < z2) \n",
    "\n",
    "def withinMask(mask, coor):\n",
    "    if mask[int(coor[0]), int(coor[1]), int(coor[2])] > 0:\n",
    "        return True\n",
    "    else:\n",
    "        return False"
   ]
  },
  {
   "cell_type": "code",
   "execution_count": 3,
   "metadata": {},
   "outputs": [
    {
     "name": "stdout",
     "output_type": "stream",
     "text": [
      "(5568, 3960, 1140)\n",
      "(2192, 1776, 750)\n",
      "(2192, 1776, 750)\n"
     ]
    }
   ],
   "source": [
    "basedir = r'Y:\\People\\Yannan\\Segmentation\\DrugTH10_30mgkg\\CKet11823'\n",
    "\n",
    "imgTH = imgLoad.loadVirtualTifSeq(basedir + r'\\data\\*.tif')\n",
    "mask = imgLoad.loadVirtualTifSeq(r\"W:\\People\\Yannan\\Segmentation\\DF16\\regionalMask\\aroundHY\\highDenseMask2\\*.tif\") | \\\n",
    "        imgLoad.loadVirtualTifSeq(r\"W:\\People\\Yannan\\Segmentation\\DF16\\regionalMask\\aroundHY\\aroundHYMask\\*.tif\")\n",
    "mask = np.array(mask)\n",
    "denseRegionBoundBox = tio.loadNpy(basedir + r'\\parameters\\denseBoundBox.npy')[()]\n",
    "x1, x2, y1, y2, z1, z2 = denseRegionBoundBox['x1'], denseRegionBoundBox['x2'], denseRegionBoundBox['y1'],\\\n",
    "                        denseRegionBoundBox['y2'], denseRegionBoundBox['z1'], denseRegionBoundBox['z2']\n",
    "\n",
    "denseRegionCells = Proofread(basedir + r'\\regionSpecificTraining', []).cells\n",
    "# denseRegionCells = pd.read_csv(glob(basedir + r'\\regionSpecificTraining\\proofreadTemp\\manualResults*.csv')[-1])\n",
    "sparseRegionCells = pd.read_csv(basedir + r\"\\results.csv\")\n"
   ]
  },
  {
   "cell_type": "code",
   "execution_count": 4,
   "metadata": {},
   "outputs": [
    {
     "data": {
      "application/vnd.jupyter.widget-view+json": {
       "model_id": "a7da1b6560c049b2a9b14fcecbb1a268",
       "version_major": 2,
       "version_minor": 0
      },
      "text/plain": [
       "  0%|          | 0/2700 [00:00<?, ?it/s]"
      ]
     },
     "metadata": {},
     "output_type": "display_data"
    }
   ],
   "source": [
    "sparseCellsWithinBox = withinBox(np.array([sparseRegionCells.x, sparseRegionCells.y, sparseRegionCells.z]).T, \\\n",
    "                                x1, x2, y1, y2, z1, z2)\n",
    "\n",
    "sparseCellsWithinMask = sparseCellsWithinBox.copy()\n",
    "for i in tqdm(np.where(sparseCellsWithinBox)[0]):\n",
    "    coor = [sparseRegionCells.x[i]-x1, sparseRegionCells.y[i]-y1, sparseRegionCells.z[i]-z1]\n",
    "    sparseCellsWithinMask[i] = mask[int(coor[0]), int(coor[1]), int(coor[2])] > 0\n",
    "                        "
   ]
  },
  {
   "cell_type": "code",
   "execution_count": 5,
   "metadata": {},
   "outputs": [],
   "source": [
    "denseRegionCellsRemap = denseRegionCells.copy()\n",
    "denseRegionCellsRemap.x += x1\n",
    "denseRegionCellsRemap.y += y1\n",
    "denseRegionCellsRemap.z += z1\n"
   ]
  },
  {
   "cell_type": "code",
   "execution_count": 6,
   "metadata": {},
   "outputs": [
    {
     "name": "stdout",
     "output_type": "stream",
     "text": [
      "Create  Y:\\People\\Yannan\\Segmentation\\DrugTH10_30mgkg\\CKet11823\\fullCells\n"
     ]
    }
   ],
   "source": [
    "fullCells = pd.concat((sparseRegionCells.iloc[~sparseCellsWithinMask], denseRegionCellsRemap))\n",
    "tio.mkdirs(basedir + r'\\fullCells')\n",
    "fullCells.to_csv(basedir + r'\\fullCells\\results.csv')"
   ]
  },
  {
   "cell_type": "code",
   "execution_count": 7,
   "metadata": {},
   "outputs": [],
   "source": [
    "%gui qt\n",
    "\n",
    "viewer = napari.view_points(np.array([fullCells.x, fullCells.y, fullCells.z*2]).T, \n",
    "                            size = 10, n_dimensional = True, face_color = 'red', name = 'Cells')\n"
   ]
  },
  {
   "cell_type": "code",
   "execution_count": null,
   "metadata": {},
   "outputs": [],
   "source": []
  }
 ],
 "metadata": {
  "kernelspec": {
   "display_name": "Python 3",
   "language": "python",
   "name": "python3"
  },
  "language_info": {
   "codemirror_mode": {
    "name": "ipython",
    "version": 3
   },
   "file_extension": ".py",
   "mimetype": "text/x-python",
   "name": "python",
   "nbconvert_exporter": "python",
   "pygments_lexer": "ipython3",
   "version": "3.8.5"
  }
 },
 "nbformat": 4,
 "nbformat_minor": 4
}
